{
 "cells": [
  {
   "cell_type": "code",
   "execution_count": null,
   "id": "672060d0-2ffe-4f3d-9ecb-3d16269cbbc5",
   "metadata": {},
   "outputs": [],
   "source": [
    "!git clone https://github.com/ai-forever/Kandinsky-2\n",
    "!pip install './Kandinsky-2'\n",
    "!pip install git+https://github.com/openai/CLIP.git"
   ]
  },
  {
   "cell_type": "code",
   "execution_count": null,
   "id": "0ef6d75c-7364-4919-95d2-4b1883eed378",
   "metadata": {},
   "outputs": [],
   "source": [
    "import os\n",
    "from huggingface_hub import hf_hub_url, cached_download\n",
    "from copy import deepcopy\n",
    "from omegaconf.dictconfig import DictConfig\n",
    "from omegaconf import OmegaConf\n",
    "from PIL import Image\n",
    "import numpy as np\n",
    "import pandas as pd"
   ]
  },
  {
   "cell_type": "code",
   "execution_count": null,
   "id": "ec531c8f-e84c-49f2-ad1c-0fc8493370f1",
   "metadata": {},
   "outputs": [],
   "source": [
    "def get_kandinsky2_1(\n",
    "    cache_dir=\"./kandinsky2\",\n",
    "    use_auth_token=None,\n",
    "):\n",
    "    cache_dir = os.path.join(cache_dir, \"2_1\")\n",
    "    \n",
    "    prior_name = \"prior_fp16.ckpt\"\n",
    "    config_file_url = hf_hub_url(repo_id=\"sberbank-ai/Kandinsky_2.1\", filename=prior_name)\n",
    "    cached_download(\n",
    "        config_file_url,\n",
    "        cache_dir=cache_dir,\n",
    "        force_filename=prior_name,\n",
    "        use_auth_token=use_auth_token,\n",
    "    )\n",
    "\n",
    "    config_file_url = hf_hub_url(repo_id=\"sberbank-ai/Kandinsky_2.1\", filename=\"ViT-L-14_stats.th\")\n",
    "    cached_download(\n",
    "        config_file_url,\n",
    "        cache_dir=cache_dir,\n",
    "        force_filename=\"ViT-L-14_stats.th\",\n",
    "        use_auth_token=use_auth_token,\n",
    "    )"
   ]
  },
  {
   "cell_type": "code",
   "execution_count": null,
   "id": "03b81101-6be7-4268-987f-5d7c6a53e6be",
   "metadata": {},
   "outputs": [],
   "source": [
    "get_kandinsky2_1()"
   ]
  },
  {
   "cell_type": "code",
   "execution_count": null,
   "id": "c8aa9acb-3f15-415a-bcfa-f4c053cdcdcb",
   "metadata": {},
   "outputs": [],
   "source": [
    "#create data, load your data\n",
    "pd.DataFrame([['images/test.jpg', 'test']], columns=['image_name', 'caption']).to_csv('test.csv', index=False)\n",
    "os.mkdir('images')\n",
    "Image.new('RGB', (768, 768)).save('images/test.jpg')"
   ]
  },
  {
   "cell_type": "code",
   "execution_count": null,
   "id": "491f6a66-3458-4062-8dd1-c0e1966645c9",
   "metadata": {},
   "outputs": [],
   "source": [
    "config = OmegaConf.load(\"Kandinsky-2/train_configs/config_prior.yaml\")"
   ]
  },
  {
   "cell_type": "code",
   "execution_count": null,
   "id": "c2e717e8-50be-42f4-b65d-29bd4d71dbb9",
   "metadata": {},
   "outputs": [],
   "source": [
    "config['params_path'] = 'kandinsky2/2_1/prior_fp16.ckpt'\n",
    "config['clip_mean_std_path'] = 'kandinsky2/2_1/ViT-L-14_stats.th'\n",
    "config['data']['train']['df_path'] = 'test.csv'\n",
    "config['num_epochs'] = 1001\n",
    "config['save_path'] = 'saves'\n",
    "if not os.path.exists('saves'):\n",
    "    os.mkdir('saves')"
   ]
  },
  {
   "cell_type": "code",
   "execution_count": null,
   "id": "85fe0626-b38b-46e3-8e47-c9376d2c7680",
   "metadata": {},
   "outputs": [],
   "source": [
    "with open(\"train_config.yaml\", \"w\") as f:\n",
    "    OmegaConf.save(config, f)"
   ]
  },
  {
   "cell_type": "code",
   "execution_count": null,
   "id": "3b86bb33-8b65-49ff-a52b-26e9e2a3194d",
   "metadata": {},
   "outputs": [],
   "source": [
    "!python Kandinsky-2/train_prior.py --config train_config.yaml"
   ]
  }
 ],
 "metadata": {
  "kernelspec": {
   "display_name": "Python 3 (ipykernel)",
   "language": "python",
   "name": "python3"
  },
  "language_info": {
   "codemirror_mode": {
    "name": "ipython",
    "version": 3
   },
   "file_extension": ".py",
   "mimetype": "text/x-python",
   "name": "python",
   "nbconvert_exporter": "python",
   "pygments_lexer": "ipython3",
   "version": "3.7.12"
  }
 },
 "nbformat": 4,
 "nbformat_minor": 5
}
